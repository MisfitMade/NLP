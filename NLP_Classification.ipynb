{
 "cells": [
  {
   "cell_type": "code",
   "execution_count": 39,
   "metadata": {},
   "outputs": [],
   "source": [
    "from NLP_Lib import *\n",
    "\n",
    "import tensorflow as tf\n",
    "from tensorflow import keras\n",
    "import matplotlib as mpl\n",
    "import matplotlib.pyplot as plt\n",
    "import pandas as pd\n",
    "import math\n",
    "import numpy as np\n",
    "import tensorflow_hub as hub\n",
    "import tensorflow_text as text\n",
    "import json\n",
    "\n",
    "from official.nlp import optimization # for creating custom optimizer"
   ]
  },
  {
   "cell_type": "code",
   "execution_count": 44,
   "metadata": {},
   "outputs": [
    {
     "name": "stdout",
     "output_type": "stream",
     "text": [
      "Path to weights: ./model_checkpoints/10/16/10:57:45/save_at_10.h5\n"
     ]
    }
   ],
   "source": [
    "# Get the info of the model we want to load\n",
    "PATH_TO_MODEL_INFO = os.path.join(\n",
    "    CHECKPOINT_DIR,\n",
    "    \"10\",\n",
    "    \"16\",\n",
    "    \"10:57:45\")\n",
    "\n",
    "# save_at_n.hf files are to big to push to github\n",
    "PATH_TO_WEIGHTS_TO_LOAD = os.path.join(PATH_TO_MODEL_INFO, \"save_at_10.h5\")\n",
    "PATH_TO_JSON_PARAMS = os.path.join(PATH_TO_MODEL_INFO, \"training_params.json\")\n",
    "\n",
    "params_dict = json.load(open(PATH_TO_JSON_PARAMS))\n",
    "print(\"Path to weights:\", PATH_TO_WEIGHTS_TO_LOAD)"
   ]
  },
  {
   "cell_type": "code",
   "execution_count": 45,
   "metadata": {},
   "outputs": [],
   "source": [
    "# Using the fetched model params and weights, load the same model\n",
    "optimizer = optimization.create_optimizer(\n",
    "    init_lr=float(params_dict[INITIAL_LEARNING_RATE]),\n",
    "    num_train_steps=int(params_dict[NUMBER_OF_TRAINING_STEPS]),\n",
    "    num_warmup_steps=int(params_dict[NUMBER_OF_WARMUP_STEPS]),\n",
    "    optimizer_type=params_dict[OPTIMIZER])\n",
    "\n",
    "model = build_classifier_model(SMALL_BERT[0], SMALL_BERT[1], optimizer)\n",
    "\n",
    "model.load_weights(PATH_TO_WEIGHTS_TO_LOAD)"
   ]
  },
  {
   "cell_type": "code",
   "execution_count": null,
   "metadata": {},
   "outputs": [],
   "source": [
    "# Load in the testing data tsv, use the loaded model to make\n",
    "# predictions and save them to a .csv in the form kaggle defines\n"
   ]
  }
 ],
 "metadata": {
  "kernelspec": {
   "display_name": "Python 3.10.6 ('NLP')",
   "language": "python",
   "name": "python3"
  },
  "language_info": {
   "codemirror_mode": {
    "name": "ipython",
    "version": 3
   },
   "file_extension": ".py",
   "mimetype": "text/x-python",
   "name": "python",
   "nbconvert_exporter": "python",
   "pygments_lexer": "ipython3",
   "version": "3.10.6"
  },
  "orig_nbformat": 4,
  "vscode": {
   "interpreter": {
    "hash": "cb58a922583ee0cd0dc06a4d8a1ec3ba10d4c198521abe3b8d6a1e488418653c"
   }
  }
 },
 "nbformat": 4,
 "nbformat_minor": 2
}
