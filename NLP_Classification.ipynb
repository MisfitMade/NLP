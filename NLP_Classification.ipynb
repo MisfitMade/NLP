{
 "cells": [
  {
   "cell_type": "code",
   "execution_count": 4,
   "metadata": {},
   "outputs": [
    {
     "name": "stdout",
     "output_type": "stream",
     "text": [
      "The autoreload extension is already loaded. To reload it, use:\n",
      "  %reload_ext autoreload\n"
     ]
    }
   ],
   "source": [
    "%load_ext autoreload\n",
    "%autoreload 2\n",
    "\n",
    "from NLP_Lib import *\n",
    "\n",
    "import tensorflow as tf\n",
    "from tensorflow import keras\n",
    "import matplotlib as mpl\n",
    "import matplotlib.pyplot as plt\n",
    "import pandas as pd\n",
    "import math\n",
    "import numpy as np\n",
    "import tensorflow_hub as hub\n",
    "import tensorflow_text as text\n",
    "import json\n",
    "\n",
    "from official.nlp import optimization # for creating custom optimizer"
   ]
  },
  {
   "cell_type": "code",
   "execution_count": 15,
   "metadata": {},
   "outputs": [
    {
     "name": "stdout",
     "output_type": "stream",
     "text": [
      "Path to weights: ./models/10/24/07:30:28/save_at_11.h5\n"
     ]
    }
   ],
   "source": [
    "# Get the info of the model we want to load\n",
    "PATH_TO_MODEL_INFO = os.path.join(\n",
    "    PATH_TO_MODELS_DIRECTORY,\n",
    "    \"10\",\n",
    "    \"24\",\n",
    "    \"07:30:28\")\n",
    "\n",
    "# save_at_n.hf files are to big to push to github\n",
    "PATH_TO_WEIGHTS_TO_LOAD = os.path.join(PATH_TO_MODEL_INFO, \"save_at_11.h5\")\n",
    "PATH_TO_JSON_PARAMS = os.path.join(PATH_TO_MODEL_INFO, \"training_params.json\")\n",
    "\n",
    "params_dict = json.load(open(PATH_TO_JSON_PARAMS))\n",
    "print(\"Path to weights:\", PATH_TO_WEIGHTS_TO_LOAD)"
   ]
  },
  {
   "cell_type": "code",
   "execution_count": 16,
   "metadata": {},
   "outputs": [],
   "source": [
    "# Using the fetched model params and weights, load the model we want to predict with\n",
    "optimizer = optimization.create_optimizer(\n",
    "    init_lr=float(params_dict[INITIAL_LEARNING_RATE]),\n",
    "    num_train_steps=int(params_dict[NUMBER_OF_TRAINING_STEPS]),\n",
    "    num_warmup_steps=int(params_dict[NUMBER_OF_WARMUP_STEPS]),\n",
    "    optimizer_type=params_dict[OPTIMIZER])\n",
    "\n",
    "model = build_classifier_model(SMALL_BERT[0], SMALL_BERT[1], optimizer)\n",
    "model.load_weights(PATH_TO_WEIGHTS_TO_LOAD)"
   ]
  },
  {
   "cell_type": "code",
   "execution_count": 17,
   "metadata": {},
   "outputs": [],
   "source": [
    "# Load in the testing data tsv, use the loaded model to make\n",
    "# predictions and save them to a .csv in the form kaggle defines\n",
    "testing_df = pd.read_table(PATH_TO_TESTING_TSV)\n",
    "X = np.array(testing_df[TEXT_COL])\n",
    "preds = model.predict(X)\n",
    "\n",
    "submission_df = pd.DataFrame(dict(\n",
    "        Id=testing_df[ID_COL],\n",
    "        Category=map_probs_to_class(preds, map_idx_to_subclass)))"
   ]
  },
  {
   "cell_type": "code",
   "execution_count": 18,
   "metadata": {},
   "outputs": [
    {
     "data": {
      "text/html": [
       "<div>\n",
       "<style scoped>\n",
       "    .dataframe tbody tr th:only-of-type {\n",
       "        vertical-align: middle;\n",
       "    }\n",
       "\n",
       "    .dataframe tbody tr th {\n",
       "        vertical-align: top;\n",
       "    }\n",
       "\n",
       "    .dataframe thead th {\n",
       "        text-align: right;\n",
       "    }\n",
       "</style>\n",
       "<table border=\"1\" class=\"dataframe\">\n",
       "  <thead>\n",
       "    <tr style=\"text-align: right;\">\n",
       "      <th></th>\n",
       "      <th>Id</th>\n",
       "      <th>Category</th>\n",
       "    </tr>\n",
       "  </thead>\n",
       "  <tbody>\n",
       "    <tr>\n",
       "      <th>0</th>\n",
       "      <td>1</td>\n",
       "      <td>Bart Simpson</td>\n",
       "    </tr>\n",
       "    <tr>\n",
       "      <th>1</th>\n",
       "      <td>2</td>\n",
       "      <td>Lisa Simpson</td>\n",
       "    </tr>\n",
       "    <tr>\n",
       "      <th>2</th>\n",
       "      <td>3</td>\n",
       "      <td>Homer Simpson</td>\n",
       "    </tr>\n",
       "    <tr>\n",
       "      <th>3</th>\n",
       "      <td>4</td>\n",
       "      <td>Bart Simpson</td>\n",
       "    </tr>\n",
       "    <tr>\n",
       "      <th>4</th>\n",
       "      <td>5</td>\n",
       "      <td>Lisa Simpson</td>\n",
       "    </tr>\n",
       "    <tr>\n",
       "      <th>...</th>\n",
       "      <td>...</td>\n",
       "      <td>...</td>\n",
       "    </tr>\n",
       "    <tr>\n",
       "      <th>10494</th>\n",
       "      <td>10520</td>\n",
       "      <td>Homer Simpson</td>\n",
       "    </tr>\n",
       "    <tr>\n",
       "      <th>10495</th>\n",
       "      <td>10521</td>\n",
       "      <td>Homer Simpson</td>\n",
       "    </tr>\n",
       "    <tr>\n",
       "      <th>10496</th>\n",
       "      <td>10522</td>\n",
       "      <td>Other</td>\n",
       "    </tr>\n",
       "    <tr>\n",
       "      <th>10497</th>\n",
       "      <td>10523</td>\n",
       "      <td>Bart Simpson</td>\n",
       "    </tr>\n",
       "    <tr>\n",
       "      <th>10498</th>\n",
       "      <td>10524</td>\n",
       "      <td>Lisa Simpson</td>\n",
       "    </tr>\n",
       "  </tbody>\n",
       "</table>\n",
       "<p>10499 rows × 2 columns</p>\n",
       "</div>"
      ],
      "text/plain": [
       "          Id       Category\n",
       "0          1   Bart Simpson\n",
       "1          2   Lisa Simpson\n",
       "2          3  Homer Simpson\n",
       "3          4   Bart Simpson\n",
       "4          5   Lisa Simpson\n",
       "...      ...            ...\n",
       "10494  10520  Homer Simpson\n",
       "10495  10521  Homer Simpson\n",
       "10496  10522          Other\n",
       "10497  10523   Bart Simpson\n",
       "10498  10524   Lisa Simpson\n",
       "\n",
       "[10499 rows x 2 columns]"
      ]
     },
     "execution_count": 18,
     "metadata": {},
     "output_type": "execute_result"
    }
   ],
   "source": [
    "# use this to map a subclass predictions DF to a class predictions DF where all non-main\n",
    "# Simpsons character predictions get changed to \"Other\"\n",
    "submission_df[SUBMISSION_CATEGORY_COL] = submission_df[SUBMISSION_CATEGORY_COL].apply(lambda cls: cls if cls in CLASSES else OTHER)\n",
    "submission_df"
   ]
  },
  {
   "cell_type": "code",
   "execution_count": 14,
   "metadata": {},
   "outputs": [],
   "source": [
    "submission_df.to_csv(\n",
    "    os.path.join(PATH_TO_MODEL_INFO, \"kaggle_submission_e11.csv\"),\n",
    "    index=False) # ignore the row index column when writing to the csv"
   ]
  }
 ],
 "metadata": {
  "kernelspec": {
   "display_name": "Python 3.10.6 ('NLP')",
   "language": "python",
   "name": "python3"
  },
  "language_info": {
   "codemirror_mode": {
    "name": "ipython",
    "version": 3
   },
   "file_extension": ".py",
   "mimetype": "text/x-python",
   "name": "python",
   "nbconvert_exporter": "python",
   "pygments_lexer": "ipython3",
   "version": "3.10.6"
  },
  "orig_nbformat": 4,
  "vscode": {
   "interpreter": {
    "hash": "cb58a922583ee0cd0dc06a4d8a1ec3ba10d4c198521abe3b8d6a1e488418653c"
   }
  }
 },
 "nbformat": 4,
 "nbformat_minor": 2
}
