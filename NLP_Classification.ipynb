{
 "cells": [
  {
   "cell_type": "code",
   "execution_count": null,
   "metadata": {},
   "outputs": [],
   "source": [
    "%load_ext autoreload\n",
    "%autoreload 2\n",
    "\n",
    "from NLP_Lib import *\n",
    "\n",
    "import tensorflow as tf\n",
    "from tensorflow import keras\n",
    "import matplotlib as mpl\n",
    "import matplotlib.pyplot as plt\n",
    "import pandas as pd\n",
    "import math\n",
    "import numpy as np\n",
    "import tensorflow_hub as hub\n",
    "import tensorflow_text as text\n",
    "import json\n",
    "\n",
    "from official.nlp import optimization # for creating custom optimizer"
   ]
  },
  {
   "cell_type": "code",
   "execution_count": null,
   "metadata": {},
   "outputs": [],
   "source": [
    "# Get the info of the model we want to load\n",
    "PATH_TO_MODEL_INFO = os.path.join(\n",
    "    PATH_TO_MODELS_DIRECTORY,\n",
    "    \"10\",\n",
    "    \"16\",\n",
    "    \"10:57:45\")\n",
    "\n",
    "# save_at_n.hf files are to big to push to github\n",
    "PATH_TO_WEIGHTS_TO_LOAD = os.path.join(PATH_TO_MODEL_INFO, \"save_at_3.h5\")\n",
    "PATH_TO_JSON_PARAMS = os.path.join(PATH_TO_MODEL_INFO, \"training_params.json\")\n",
    "\n",
    "params_dict = json.load(open(PATH_TO_JSON_PARAMS))\n",
    "print(\"Path to weights:\", PATH_TO_WEIGHTS_TO_LOAD)"
   ]
  },
  {
   "cell_type": "code",
   "execution_count": 31,
   "metadata": {},
   "outputs": [],
   "source": [
    "# Using the fetched model params and weights, load the model we want to predict with\n",
    "optimizer = optimization.create_optimizer(\n",
    "    init_lr=float(params_dict[INITIAL_LEARNING_RATE]),\n",
    "    num_train_steps=int(params_dict[NUMBER_OF_TRAINING_STEPS]),\n",
    "    num_warmup_steps=int(params_dict[NUMBER_OF_WARMUP_STEPS]),\n",
    "    optimizer_type=params_dict[OPTIMIZER])\n",
    "\n",
    "model = build_classifier_model(SMALL_BERT[0], SMALL_BERT[1], optimizer)\n",
    "model.load_weights(PATH_TO_WEIGHTS_TO_LOAD)"
   ]
  },
  {
   "cell_type": "code",
   "execution_count": 28,
   "metadata": {},
   "outputs": [],
   "source": [
    "# Load in the testing data tsv, use the loaded model to make\n",
    "# predictions and save them to a .csv in the form kaggle defines\n",
    "testing_df = pd.read_table(PATH_TO_TESTING_TSV)\n",
    "X = np.array(testing_df[TEXT_COL])\n",
    "preds = model.predict(X)\n",
    "\n",
    "submission_df = pd.DataFrame(dict(\n",
    "        Id=testing_df[ID_COL],\n",
    "        Category=map_probs_to_class(preds)))"
   ]
  },
  {
   "cell_type": "code",
   "execution_count": 29,
   "metadata": {},
   "outputs": [],
   "source": [
    "submission_df.to_csv(\n",
    "    os.path.join(PATH_TO_MODEL_INFO, \"kaggle_submission_e3.csv\"),\n",
    "    index=False) # ignore the row index column when writing to the csv"
   ]
  }
 ],
 "metadata": {
  "kernelspec": {
   "display_name": "Python 3.10.6 ('NLP')",
   "language": "python",
   "name": "python3"
  },
  "language_info": {
   "codemirror_mode": {
    "name": "ipython",
    "version": 3
   },
   "file_extension": ".py",
   "mimetype": "text/x-python",
   "name": "python",
   "nbconvert_exporter": "python",
   "pygments_lexer": "ipython3",
   "version": "3.10.6"
  },
  "orig_nbformat": 4,
  "vscode": {
   "interpreter": {
    "hash": "cb58a922583ee0cd0dc06a4d8a1ec3ba10d4c198521abe3b8d6a1e488418653c"
   }
  }
 },
 "nbformat": 4,
 "nbformat_minor": 2
}
