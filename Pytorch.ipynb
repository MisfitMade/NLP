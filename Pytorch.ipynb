{
 "cells": [
  {
   "cell_type": "code",
   "execution_count": 2,
   "metadata": {
    "collapsed": false,
    "pycharm": {
     "name": "#%%\n"
    }
   },
   "outputs": [
    {
     "name": "stdout",
     "output_type": "stream",
     "text": [
      "2.7.9\n"
     ]
    }
   ],
   "source": [
    "# % load_ext autoreload\n",
    "# % autoreload 2\n",
    "from fastai.text.all import *\n",
    "import fastai\n",
    "\n",
    "from NLP_Lib import *\n",
    "from fastai.text import *\n",
    "\n",
    "# import tensorflow as tf\n",
    "from tensorflow import keras\n",
    "import matplotlib as mpl\n",
    "import matplotlib.pyplot as plt\n",
    "from datetime import datetime\n",
    "import pandas as pd\n",
    "import math\n",
    "import numpy as np\n",
    "from numpy import dtype\n",
    "from fastai.text import *\n",
    "from sklearn.model_selection import train_test_split\n",
    "from pathlib import Path\n",
    "import pickle as pkl\n",
    "\n",
    "import unicodedata\n",
    "import pandas as pd\n",
    "import re\n",
    "import spacy\n",
    "import json\n",
    "\n",
    "import fastai\n",
    "print(fastai.__version__)\n",
    "\n",
    "import warnings\n",
    "warnings.filterwarnings('ignore')\n",
    "\n",
    "# improve/change plot appearance\n",
    "mpl.rc('axes', labelsize=14)\n",
    "mpl.rc('xtick', labelsize=12)\n",
    "mpl.rc('ytick', labelsize=12)\n",
    "\n",
    "# load in the training data, make sure it is the form we expect\n",
    "training_df = pd.read_table(PATH_TO_TRAINING_DATA)\n",
    "assert (training_df.shape[1] > 1 and CLASS_COL == training_df.columns[1]\n",
    "        and training_df.shape[1] > 2 and SUBCLASS_COL == training_df.columns[2]\n",
    "        and training_df.shape[1] > 3 and TEXT_COL == training_df.columns[3])\n",
    "        \n",
    "training_df"
   ]
  },
  {
   "cell_type": "code",
   "execution_count": 4,
   "metadata": {
    "collapsed": false,
    "pycharm": {
     "name": "#%%\n"
    }
   },
   "outputs": [
    {
     "data": {
      "text/plain": [
       "Homer Simpson          17255\n",
       "Marge Simpson           8514\n",
       "Bart Simpson            7739\n",
       "Lisa Simpson            6651\n",
       "C. Montgomery Burns     2106\n",
       "Ned Flanders            1398\n",
       "Chief Wiggum            1257\n",
       "Krusty the Clown        1182\n",
       "Grampa Simpson          1133\n",
       "Milhouse Van Houten     1071\n",
       "Waylon Smithers          624\n",
       "Name: subclass, dtype: int64"
      ]
     },
     "execution_count": 4,
     "metadata": {},
     "output_type": "execute_result"
    }
   ],
   "source": [
    "training_df[\"subclass\"].value_counts()"
   ]
  },
  {
   "cell_type": "code",
   "execution_count": 5,
   "metadata": {
    "collapsed": false,
    "pycharm": {
     "name": "#%%\n"
    }
   },
   "outputs": [
    {
     "data": {
      "text/plain": [
       "(#12) ['xxbos','xxmaj','this','looks','like','a','job','for','…','fireplace'...]"
      ]
     },
     "execution_count": 5,
     "metadata": {},
     "output_type": "execute_result"
    }
   ],
   "source": [
    "spacy = WordTokenizer()\n",
    "\n",
    "# Wrapping the Spacy tokenizer with a custom Fastai function to make some custom changes to the tokenizer\n",
    "tkn = Tokenizer(spacy)\n",
    "txt = training_df['text'].iloc[0]\n",
    "tkn(txt)"
   ]
  },
  {
   "cell_type": "code",
   "execution_count": 6,
   "metadata": {
    "collapsed": false,
    "pycharm": {
     "name": "#%%\n"
    }
   },
   "outputs": [
    {
     "data": {
      "text/plain": [
       "(#12) ['xxbos','xxmaj','this','looks','like','a','job','for','…','fireplace'...]"
      ]
     },
     "execution_count": 6,
     "metadata": {},
     "output_type": "execute_result"
    }
   ],
   "source": [
    "txts = L([i for i in training_df['text']])\n",
    "tok = Tokenizer.from_df(training_df)\n",
    "tok.setup(training_df)\n",
    "\n",
    "toks = txts.map(tok)\n",
    "toks[0]"
   ]
  },
  {
   "cell_type": "code",
   "execution_count": 7,
   "metadata": {
    "collapsed": false,
    "pycharm": {
     "name": "#%%\n"
    }
   },
   "outputs": [
    {
     "data": {
      "text/plain": [
       "TensorText([   2,    8,   30,  296,   52,   15,  298,   33,   21, 3663])"
      ]
     },
     "execution_count": 7,
     "metadata": {},
     "output_type": "execute_result"
    }
   ],
   "source": [
    "tok.encodes(toks[0])\n",
    "num = Numericalize()\n",
    "num.setup(toks)\n",
    "nums = toks.map(num)\n",
    "nums[0][:10]"
   ]
  },
  {
   "cell_type": "code",
   "execution_count": null,
   "metadata": {
    "collapsed": false,
    "pycharm": {
     "name": "#%%\n"
    }
   },
   "outputs": [],
   "source": [
    "training_df[\"classNumber\"] = training_df[\"subclass\"].map({\n",
    "\n",
    "\"Homer Simpson\" : 1,\n",
    "\"Marge Simpson\" : 2,\n",
    "\"Bart Simpson\" : 3,\n",
    "\"Lisa Simpson\" : 4,\n",
    "\"C. Montgomery Burns\" : 4,\n",
    "\"Ned Flanders\" : 5,\n",
    "\"Chief Wiggum\" : 6,\n",
    "\"Krusty the Clown\" : 7,\n",
    "\"Grampa Simpson\" : 8,\n",
    "\"Milhouse Van Houten\" : 9,\n",
    "\"Waylon Smithers\" : 10\n",
    "})\n",
    "\n",
    "print(training_df)\n",
    "\n"
   ]
  },
  {
   "cell_type": "code",
   "execution_count": 9,
   "metadata": {
    "collapsed": false,
    "pycharm": {
     "name": "#%%\n"
    }
   },
   "outputs": [
    {
     "name": "stdout",
     "output_type": "stream",
     "text": [
      "Due to IPython and Windows limitation, python multiprocessing isn't available now.\n",
      "So `n_workers` has to be changed to 0 to avoid getting stuck\n"
     ]
    },
    {
     "data": {
      "text/html": [
       "<table border=\"1\" class=\"dataframe\">\n",
       "  <thead>\n",
       "    <tr style=\"text-align: right;\">\n",
       "      <th></th>\n",
       "      <th>text</th>\n",
       "      <th>text_</th>\n",
       "    </tr>\n",
       "  </thead>\n",
       "  <tbody>\n",
       "    <tr>\n",
       "      <th>0</th>\n",
       "      <td>xxbos xxmaj and we looked and we saw him … xxbos xxmaj sorry , xxmaj marge -- i got ta break in my ski boots some time . xxbos xxmaj oh hey , is that a xxmaj penn xxmaj state banner ? xxmaj my cousin went there . xxbos xxmaj we 'd better get him home . xxbos xxmaj what , xxmaj i 'm going for a xxmaj xxunk xxunk thing .</td>\n",
       "      <td>xxmaj and we looked and we saw him … xxbos xxmaj sorry , xxmaj marge -- i got ta break in my ski boots some time . xxbos xxmaj oh hey , is that a xxmaj penn xxmaj state banner ? xxmaj my cousin went there . xxbos xxmaj we 'd better get him home . xxbos xxmaj what , xxmaj i 'm going for a xxmaj xxunk xxunk thing . xxmaj</td>\n",
       "    </tr>\n",
       "    <tr>\n",
       "      <th>1</th>\n",
       "      <td>'ve got to start backwards ! / xxmaj orange to orange ! xxmaj ignore the xxunk ! / xxmaj alternate corners ! / xxbos xxmaj son , they call it a \" xxunk \" . xxmaj whoo hoo ! xxmaj look at him go ! xxbos xxmaj they 're dogs ! xxmaj and they 're playing poker ! xxbos xxmaj we do n't want a raccoon . xxbos xxmaj and read books</td>\n",
       "      <td>got to start backwards ! / xxmaj orange to orange ! xxmaj ignore the xxunk ! / xxmaj alternate corners ! / xxbos xxmaj son , they call it a \" xxunk \" . xxmaj whoo hoo ! xxmaj look at him go ! xxbos xxmaj they 're dogs ! xxmaj and they 're playing poker ! xxbos xxmaj we do n't want a raccoon . xxbos xxmaj and read books where</td>\n",
       "    </tr>\n",
       "    <tr>\n",
       "      <th>2</th>\n",
       "      <td>look like you in ten days ? xxbos xxmaj hello ? xxmaj xxunk xxmaj xxunk ? xxmaj did you know a man named xxmaj abe xxmaj simpson ? xxbos xxmaj until xxmaj mr . xxmaj roosevelt 's xxmaj new xxmaj deal starts working , this country 's still in a depression . xxmaj i 'm spending a fortune on atoms , and we have to cut costs ! xxbos xxmaj is n't</td>\n",
       "      <td>like you in ten days ? xxbos xxmaj hello ? xxmaj xxunk xxmaj xxunk ? xxmaj did you know a man named xxmaj abe xxmaj simpson ? xxbos xxmaj until xxmaj mr . xxmaj roosevelt 's xxmaj new xxmaj deal starts working , this country 's still in a depression . xxmaj i 'm spending a fortune on atoms , and we have to cut costs ! xxbos xxmaj is n't it</td>\n",
       "    </tr>\n",
       "  </tbody>\n",
       "</table>"
      ],
      "text/plain": [
       "<IPython.core.display.HTML object>"
      ]
     },
     "metadata": {},
     "output_type": "display_data"
    }
   ],
   "source": [
    "dls_lm = DataBlock(\n",
    "    blocks=TextBlock.from_df('text', is_lm=True),\n",
    "    get_x=ColReader('text'),\n",
    "    splitter=RandomSplitter(0.1)\n",
    "    # using only 10% of entire comments data for validation inorder to learn more\n",
    ")\n",
    "\n",
    "\n",
    "dls_lm = dls_lm.dataloaders(training_df, bs=64, seq_len=72)\n",
    "\n",
    "dls_lm.show_batch(max_n=3)\n"
   ]
  },
  {
   "cell_type": "code",
   "execution_count": 10,
   "metadata": {
    "collapsed": false,
    "pycharm": {
     "name": "#%%\n"
    }
   },
   "outputs": [
    {
     "data": {
      "text/html": [
       "\n",
       "<style>\n",
       "    /* Turns off some styling */\n",
       "    progress {\n",
       "        /* gets rid of default border in Firefox and Opera. */\n",
       "        border: none;\n",
       "        /* Needs to be in here for Safari polyfill so background images work as expected. */\n",
       "        background-size: auto;\n",
       "    }\n",
       "    progress:not([value]), progress:not([value])::-webkit-progress-bar {\n",
       "        background: repeating-linear-gradient(45deg, #7e7e7e, #7e7e7e 10px, #5c5c5c 10px, #5c5c5c 20px);\n",
       "    }\n",
       "    .progress-bar-interrupted, .progress-bar-interrupted::-webkit-progress-bar {\n",
       "        background: #F44336;\n",
       "    }\n",
       "</style>\n"
      ],
      "text/plain": [
       "<IPython.core.display.HTML object>"
      ]
     },
     "metadata": {},
     "output_type": "display_data"
    },
    {
     "data": {
      "text/html": [
       "\n",
       "    <div>\n",
       "      <progress value='0' class='' max='1' style='width:300px; height:20px; vertical-align: middle;'></progress>\n",
       "      \n",
       "    </div>\n",
       "    \n"
      ],
      "text/plain": [
       "<IPython.core.display.HTML object>"
      ]
     },
     "metadata": {},
     "output_type": "display_data"
    },
    {
     "data": {
      "text/plain": [
       "SuggestedLRs(valley=0.00363078061491251)"
      ]
     },
     "execution_count": 10,
     "metadata": {},
     "output_type": "execute_result"
    },
    {
     "data": {
      "image/png": "[encoded data removed]",
      "text/plain": [
       "<Figure size 640x480 with 1 Axes>"
      ]
     },
     "metadata": {},
     "output_type": "display_data"
    }
   ],
   "source": [
    "learn = language_model_learner(\n",
    "    dls_lm, AWD_LSTM,\n",
    "    metrics=[accuracy, Perplexity()]).to_fp16()\n",
    "\n",
    "learn.model\n",
    "learn.lr_find()"
   ]
  },
  {
   "cell_type": "code",
   "execution_count": null,
   "metadata": {
    "collapsed": false,
    "pycharm": {
     "is_executing": true,
     "name": "#%%\n"
    }
   },
   "outputs": [],
   "source": [
    "learn.fine_tune(5, 0.00363078061491251)\n",
    "learn.save_encoder('finetuned')\n",
    "learn.show_results()\n",
    "learn.predict()"
   ]
  }
 ],
 "metadata": {
  "kernelspec": {
   "display_name": "Python 3.9.2 64-bit",
   "language": "python",
   "name": "python3"
  },
  "language_info": {
   "codemirror_mode": {
    "name": "ipython",
    "version": 2
   },
   "file_extension": ".py",
   "mimetype": "text/x-python",
   "name": "python",
   "nbconvert_exporter": "python",
   "pygments_lexer": "ipython2",
   "version": "3.9.2"
  },
  "vscode": {
   "interpreter": {
    "hash": "916dbcbb3f70747c44a77c7bcd40155683ae19c65e1c03b4aa3499c5328201f1"
   }
  }
 },
 "nbformat": 4,
 "nbformat_minor": 0
}
